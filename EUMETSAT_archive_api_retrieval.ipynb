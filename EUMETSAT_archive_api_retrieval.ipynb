{
 "cells": [
  {
   "cell_type": "markdown",
   "id": "3efa3eca-8bb4-4db5-a9ca-40dc6a3eff37",
   "metadata": {},
   "source": [
    "# EUMETSAT Archive API retrieval"
   ]
  },
  {
   "cell_type": "markdown",
   "id": "0e925999-b231-47dc-9ad8-ac2f1e5bf4d2",
   "metadata": {},
   "source": [
    "Notes:\n",
    "- 5 files, linear processing:\n",
    "  1min 14s ± 8.45 s per loop (mean ± std. dev. of 7 runs, 1 loop each)\n",
    "- 5 files, parallel processing (5 cores): 38.2 s ± 3.88 s per loop (mean ± std. dev. of 7 runs, 1 loop each)\n",
    "\n",
    "May need to add sleep timer for parallel API calls."
   ]
  },
  {
   "cell_type": "code",
   "execution_count": 18,
   "id": "10be0521-4329-4ebd-a053-5b8aded8efb4",
   "metadata": {},
   "outputs": [],
   "source": [
    "import eumdac\n",
    "import datetime\n",
    "import shutil\n",
    "import requests\n",
    "import time\n",
    "\n",
    "from pathos.threading import ThreadPool as Pool"
   ]
  },
  {
   "cell_type": "markdown",
   "id": "66bf46d1-89bc-46e2-a1f9-7bfe20600f81",
   "metadata": {},
   "source": [
    "## Set Paths"
   ]
  },
  {
   "cell_type": "code",
   "execution_count": 19,
   "id": "0a46ba80-9aa5-4702-93a5-5610fe2ba78b",
   "metadata": {},
   "outputs": [],
   "source": [
    "# OUTPUTDIR = '../../projects/4868_10/Datasets/MSG/raw/'\n",
    "OUTPUTDIR = '.'"
   ]
  },
  {
   "cell_type": "markdown",
   "id": "368bdffc-c025-495d-9c85-dea562714bd6",
   "metadata": {},
   "source": [
    "## Set API credentials\n",
    "### Tokens can be found here: https://api.eumetsat.int/api-key/"
   ]
  },
  {
   "cell_type": "code",
   "execution_count": 20,
   "id": "6571c291-9830-47fa-a8c1-409992937c18",
   "metadata": {},
   "outputs": [
    {
     "name": "stdout",
     "output_type": "stream",
     "text": [
      "This token '3c6b7c8f-45f2-39ef-81ba-83c52c2e5e27' expires 2024-09-10 12:30:38.385592\n"
     ]
    }
   ],
   "source": [
    "# Insert your personal key and secret into the single quotes\n",
    "consumer_key = 'ZfwfuaEstPlGT6_fgAThBQa6Wrka'\n",
    "consumer_secret = 'H3dqlrWiP228vkEAw2fTCW5JPOwa'\n",
    "\n",
    "credentials = (consumer_key, consumer_secret)\n",
    "\n",
    "token = eumdac.AccessToken(credentials)\n",
    "\n",
    "try:\n",
    "    print(f\"This token '{token}' expires {token.expiration}\")\n",
    "except requests.exceptions.HTTPError as error:\n",
    "    print(f\"Unexpected error: {error}\")"
   ]
  },
  {
   "cell_type": "markdown",
   "id": "8ad574a1-ac4d-4239-a7a1-7025fee0d5ce",
   "metadata": {},
   "source": [
    "## Browse DataStore collections\n",
    "### See: https://api.eumetsat.int/data/browse/collections"
   ]
  },
  {
   "cell_type": "markdown",
   "id": "61c513da-f96b-43cc-a5be-411280d1b55b",
   "metadata": {},
   "source": [
    "## Set configuration"
   ]
  },
  {
   "cell_type": "code",
   "execution_count": 21,
   "id": "18d7bdb3-dfa4-4bbd-8df1-3f540bb748f3",
   "metadata": {},
   "outputs": [],
   "source": [
    "# Define collection\n",
    "collection = 'EO:EUM:DAT:MSG:HRSEVIRI'\n",
    "\n",
    "# Set sensing start and end time\n",
    "start = datetime.datetime(2022, 1, 1, 0, 0)\n",
    "end = datetime.datetime(2022, 1, 1, 0, 30)"
   ]
  },
  {
   "cell_type": "markdown",
   "id": "74984854-adda-4ef4-bf0a-56583e0f7734",
   "metadata": {},
   "source": [
    "## Retrieve dataset info"
   ]
  },
  {
   "cell_type": "code",
   "execution_count": 22,
   "id": "6555a1fb-7826-421d-96a1-fbcf061934b5",
   "metadata": {},
   "outputs": [
    {
     "name": "stdout",
     "output_type": "stream",
     "text": [
      "EO:EUM:DAT:MSG:HRSEVIRI - High Rate SEVIRI Level 1.5 Image Data - MSG - 0 degree\n"
     ]
    }
   ],
   "source": [
    "# Select collection from datastore\n",
    "datastore = eumdac.DataStore(token)\n",
    "\n",
    "try:    \n",
    "    selected_collection = datastore.get_collection(collection)\n",
    "    print(f\"{selected_collection} - {selected_collection.title}\")\n",
    "except eumdac.datastore.DataStoreError as error:\n",
    "    print(f\"Error related to the data store: '{error.msg}'\")\n",
    "except eumdac.collection.CollectionError as error:\n",
    "    print(f\"Error related to the collection: '{error.msg}'\")\n",
    "except requests.exceptions.ConnectionError as error:\n",
    "    print(f\"Error related to the connection: '{error.msg}'\")\n",
    "except requests.exceptions.RequestException as error:\n",
    "    print(f\"Unexpected error: {error}\")"
   ]
  },
  {
   "cell_type": "markdown",
   "id": "27a8f84f-62c2-4c5b-a60b-078e902b9d0d",
   "metadata": {},
   "source": [
    "## Retrieve filenames"
   ]
  },
  {
   "cell_type": "code",
   "execution_count": 23,
   "id": "fc8770b2-751e-4ce9-8f80-66f3d06df0ad",
   "metadata": {
    "scrolled": true,
    "tags": []
   },
   "outputs": [
    {
     "name": "stdout",
     "output_type": "stream",
     "text": [
      "MSG4-SEVI-MSG15-0100-NA-20220101002742.635000000Z-NA\n",
      "MSG4-SEVI-MSG15-0100-NA-20220101001242.759000000Z-NA\n"
     ]
    }
   ],
   "source": [
    "# Retrieve datasets that match our filter\n",
    "products = selected_collection.search(\n",
    "    dtstart=start,\n",
    "    dtend=end)\n",
    "\n",
    "for product in products:\n",
    "    try:\n",
    "        print(product)\n",
    "    except eumdac.collection.CollectionError as error:\n",
    "        print(f\"Error related to the collection: '{error.msg}'\")\n",
    "    except requests.exceptions.ConnectionError as error:\n",
    "        print(f\"Error related to the connection: '{error.msg}'\")\n",
    "    except requests.exceptions.RequestException as error:\n",
    "        print(f\"Unexpected error: {error}\")"
   ]
  },
  {
   "cell_type": "code",
   "execution_count": 7,
   "id": "fee309bc-f4c5-4460-94d8-3496b27f77f6",
   "metadata": {},
   "outputs": [
    {
     "name": "stdout",
     "output_type": "stream",
     "text": [
      "2\n"
     ]
    }
   ],
   "source": [
    "print(len(products))"
   ]
  },
  {
   "cell_type": "markdown",
   "id": "33515d41-978f-4f44-98ca-903dad53469e",
   "metadata": {},
   "source": [
    "## Download datasets"
   ]
  },
  {
   "cell_type": "markdown",
   "id": "5616693b-0ac9-43b2-90f2-1bd272d3dfd9",
   "metadata": {},
   "source": [
    "### Linear processing"
   ]
  },
  {
   "cell_type": "code",
   "execution_count": 8,
   "id": "5097bc80-7eb0-47fe-bd3a-8f31a1d00a7b",
   "metadata": {},
   "outputs": [],
   "source": [
    "def download_api_products(products, download_dir):\n",
    "\n",
    "    for product in products:\n",
    "        try:\n",
    "            with product.open() as fsrc, \\\n",
    "                    open(f'{download_dir}/{fsrc.name}', mode='wb') as fdst:\n",
    "                shutil.copyfileobj(fsrc, fdst)\n",
    "                print(f'Download of product {product} finished.')\n",
    "                \n",
    "        except eumdac.product.ProductError as error:\n",
    "            print(f\"Error related to the product '{product}' while trying to download it: '{error.msg}'\")\n",
    "        except requests.exceptions.ConnectionError as error:\n",
    "            print(f\"Error related to the connection: '{error.msg}'\")\n",
    "        except requests.exceptions.RequestException as error:\n",
    "            print(f\"Unexpected error: {error}\")\n",
    "        \n",
    "    return "
   ]
  },
  {
   "cell_type": "markdown",
   "id": "2ab43b84-c056-4f52-bab5-f6b23c28c291",
   "metadata": {},
   "source": [
    "### Parallel processing"
   ]
  },
  {
   "cell_type": "code",
   "execution_count": 9,
   "id": "8cbbe7be-b1a6-42ad-8ca8-eb4a90c70177",
   "metadata": {},
   "outputs": [],
   "source": [
    "def parallel_download_api_products(list_of_products, list_of_dirs, threads=6):\n",
    "    # Set number of threads (cores) used for parallel run and map threads\n",
    "    if threads is None:\n",
    "        pool = Pool()\n",
    "    else:\n",
    "        pool = Pool(nodes=threads)\n",
    "    # Run parallel function\n",
    "    results = pool.map( download_api_products,\n",
    "                        list_of_products, list_of_dirs) \n",
    "    \n",
    "    return results"
   ]
  },
  {
   "cell_type": "code",
   "execution_count": 10,
   "id": "8f2b3ed3-717f-4706-ba96-f196355f31d2",
   "metadata": {},
   "outputs": [],
   "source": [
    "# Create nested list of products for parallel pool\n",
    "nested_products = [[x] for x in products]\n",
    "list_of_dirs = [OUTPUTDIR] * len(nested_products)"
   ]
  },
  {
   "cell_type": "code",
   "execution_count": 11,
   "id": "bf976615-6038-4093-a943-9e8372327ec2",
   "metadata": {},
   "outputs": [
    {
     "name": "stdout",
     "output_type": "stream",
     "text": [
      "2\n"
     ]
    }
   ],
   "source": [
    "print(len(nested_products))"
   ]
  },
  {
   "cell_type": "code",
   "execution_count": 12,
   "id": "230fdf04-bc3c-48b1-84d9-1b87078bd18d",
   "metadata": {
    "tags": []
   },
   "outputs": [
    {
     "name": "stdout",
     "output_type": "stream",
     "text": [
      "Download of product MSG4-SEVI-MSG15-0100-NA-20220101001242.759000000Z-NA finished.\n",
      "Download of product MSG4-SEVI-MSG15-0100-NA-20220101002742.635000000Z-NA finished.\n",
      "Execution time (minutes): 0.9396833221117655\n"
     ]
    }
   ],
   "source": [
    "# Parallel processing with timing\n",
    "start = time.time()\n",
    "parallel_download_api_products(nested_products, list_of_dirs)\n",
    "stop = time.time()\n",
    "print(f'Execution time (minutes): {(stop-start)/60}')"
   ]
  },
  {
   "cell_type": "code",
   "execution_count": null,
   "id": "5bad7ac7-2021-4fda-97a1-daf0de765771",
   "metadata": {},
   "outputs": [],
   "source": []
  },
  {
   "cell_type": "code",
   "execution_count": null,
   "id": "c8950af9-3f04-4226-beb6-7de5c68f3aec",
   "metadata": {},
   "outputs": [],
   "source": []
  },
  {
   "cell_type": "code",
   "execution_count": null,
   "id": "753e240b-a48d-4185-8ca3-959bcc8e689b",
   "metadata": {},
   "outputs": [],
   "source": []
  },
  {
   "cell_type": "code",
   "execution_count": null,
   "id": "67d839fb-b0dc-4fa4-8264-a9b41c522011",
   "metadata": {},
   "outputs": [],
   "source": []
  }
 ],
 "metadata": {
  "kernelspec": {
   "display_name": "Python [conda env:stable]",
   "language": "python",
   "name": "conda-env-stable-py"
  },
  "language_info": {
   "codemirror_mode": {
    "name": "ipython",
    "version": 3
   },
   "file_extension": ".py",
   "mimetype": "text/x-python",
   "name": "python",
   "nbconvert_exporter": "python",
   "pygments_lexer": "ipython3",
   "version": "3.8.15"
  }
 },
 "nbformat": 4,
 "nbformat_minor": 5
}
